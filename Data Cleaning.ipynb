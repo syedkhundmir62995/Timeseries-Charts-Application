{
 "cells": [
  {
   "cell_type": "code",
   "execution_count": 71,
   "id": "b9facc02",
   "metadata": {},
   "outputs": [],
   "source": [
    "import pandas as pd\n",
    "from datetime import date"
   ]
  },
  {
   "cell_type": "code",
   "execution_count": 3,
   "id": "4e5aa045",
   "metadata": {},
   "outputs": [],
   "source": [
    "df = pd.read_csv(\"MLTollsStackOverflow.csv\")"
   ]
  },
  {
   "cell_type": "code",
   "execution_count": 4,
   "id": "21bcaf75",
   "metadata": {},
   "outputs": [
    {
     "data": {
      "text/html": [
       "<div>\n",
       "<style scoped>\n",
       "    .dataframe tbody tr th:only-of-type {\n",
       "        vertical-align: middle;\n",
       "    }\n",
       "\n",
       "    .dataframe tbody tr th {\n",
       "        vertical-align: top;\n",
       "    }\n",
       "\n",
       "    .dataframe thead th {\n",
       "        text-align: right;\n",
       "    }\n",
       "</style>\n",
       "<table border=\"1\" class=\"dataframe\">\n",
       "  <thead>\n",
       "    <tr style=\"text-align: right;\">\n",
       "      <th></th>\n",
       "      <th>month</th>\n",
       "      <th>nltk</th>\n",
       "      <th>spacy</th>\n",
       "      <th>stanford-nlp</th>\n",
       "      <th>python</th>\n",
       "      <th>r</th>\n",
       "      <th>numpy</th>\n",
       "      <th>scipy</th>\n",
       "      <th>matlab</th>\n",
       "      <th>machine-learning</th>\n",
       "      <th>...</th>\n",
       "      <th>Plato</th>\n",
       "      <th>Sympy</th>\n",
       "      <th>Flair</th>\n",
       "      <th>stanford-nlp.1</th>\n",
       "      <th>pyqt</th>\n",
       "      <th>Nolearn</th>\n",
       "      <th>Lasagne</th>\n",
       "      <th>OCR</th>\n",
       "      <th>Apache-spark-mlib</th>\n",
       "      <th>azure-virtual-machine</th>\n",
       "    </tr>\n",
       "  </thead>\n",
       "  <tbody>\n",
       "    <tr>\n",
       "      <th>0</th>\n",
       "      <td>09-Jan</td>\n",
       "      <td>0</td>\n",
       "      <td>0</td>\n",
       "      <td>0</td>\n",
       "      <td>631</td>\n",
       "      <td>8</td>\n",
       "      <td>6</td>\n",
       "      <td>2</td>\n",
       "      <td>19</td>\n",
       "      <td>8</td>\n",
       "      <td>...</td>\n",
       "      <td>0</td>\n",
       "      <td>1</td>\n",
       "      <td>0</td>\n",
       "      <td>0</td>\n",
       "      <td>5</td>\n",
       "      <td>0</td>\n",
       "      <td>0</td>\n",
       "      <td>5</td>\n",
       "      <td>0</td>\n",
       "      <td>0</td>\n",
       "    </tr>\n",
       "    <tr>\n",
       "      <th>1</th>\n",
       "      <td>09-Feb</td>\n",
       "      <td>1</td>\n",
       "      <td>0</td>\n",
       "      <td>0</td>\n",
       "      <td>633</td>\n",
       "      <td>9</td>\n",
       "      <td>7</td>\n",
       "      <td>3</td>\n",
       "      <td>27</td>\n",
       "      <td>4</td>\n",
       "      <td>...</td>\n",
       "      <td>0</td>\n",
       "      <td>0</td>\n",
       "      <td>0</td>\n",
       "      <td>0</td>\n",
       "      <td>5</td>\n",
       "      <td>0</td>\n",
       "      <td>0</td>\n",
       "      <td>11</td>\n",
       "      <td>0</td>\n",
       "      <td>0</td>\n",
       "    </tr>\n",
       "    <tr>\n",
       "      <th>2</th>\n",
       "      <td>09-Mar</td>\n",
       "      <td>0</td>\n",
       "      <td>0</td>\n",
       "      <td>0</td>\n",
       "      <td>766</td>\n",
       "      <td>4</td>\n",
       "      <td>4</td>\n",
       "      <td>2</td>\n",
       "      <td>24</td>\n",
       "      <td>3</td>\n",
       "      <td>...</td>\n",
       "      <td>0</td>\n",
       "      <td>0</td>\n",
       "      <td>0</td>\n",
       "      <td>0</td>\n",
       "      <td>7</td>\n",
       "      <td>0</td>\n",
       "      <td>0</td>\n",
       "      <td>2</td>\n",
       "      <td>0</td>\n",
       "      <td>0</td>\n",
       "    </tr>\n",
       "  </tbody>\n",
       "</table>\n",
       "<p>3 rows × 82 columns</p>\n",
       "</div>"
      ],
      "text/plain": [
       "    month  nltk  spacy  stanford-nlp  python  r  numpy  scipy  matlab  \\\n",
       "0  09-Jan     0      0             0     631  8      6      2      19   \n",
       "1  09-Feb     1      0             0     633  9      7      3      27   \n",
       "2  09-Mar     0      0             0     766  4      4      2      24   \n",
       "\n",
       "   machine-learning  ...  Plato  Sympy  Flair  stanford-nlp.1  pyqt  Nolearn  \\\n",
       "0                 8  ...      0      1      0               0     5        0   \n",
       "1                 4  ...      0      0      0               0     5        0   \n",
       "2                 3  ...      0      0      0               0     7        0   \n",
       "\n",
       "   Lasagne  OCR  Apache-spark-mlib  azure-virtual-machine  \n",
       "0        0    5                  0                      0  \n",
       "1        0   11                  0                      0  \n",
       "2        0    2                  0                      0  \n",
       "\n",
       "[3 rows x 82 columns]"
      ]
     },
     "execution_count": 4,
     "metadata": {},
     "output_type": "execute_result"
    }
   ],
   "source": [
    "df.head(3)"
   ]
  },
  {
   "cell_type": "code",
   "execution_count": 20,
   "id": "3b9e7095",
   "metadata": {},
   "outputs": [
    {
     "data": {
      "text/plain": [
       "Index(['month', 'nltk', 'spacy', 'stanford-nlp', 'python', 'r', 'numpy',\n",
       "       'scipy', 'matlab', 'machine-learning', 'pandas', 'pytorch', 'keras',\n",
       "       'nlp', 'apache-spark', 'hadoop', 'pyspark', 'python-3.x', 'tensorflow',\n",
       "       'deep-learning', 'neural-network', 'lstm', 'time-series', 'pillow',\n",
       "       'rasa', 'opencv', 'pipenv', 'seaborn', 'Dask', 'jupyter', 'AllenNLP',\n",
       "       'Theano', 'plotly', 'scikit-learn', 'BeautifulSoup', 'scrapy', 'Gensim',\n",
       "       'FastText', 'Pydot', 'Pybrain', 'Pytil', 'Pygame', 'Colab', 'Shogun',\n",
       "       'KNIME', 'Apache', 'Gunicorn', 'Pygtk', 'Weka', 'Conda', 'Ray',\n",
       "       'matlab.1', 'accord.net', 'regression', 'classification', 'correlation',\n",
       "       'cluster-analysis', 'H2o', 'Mallet', 'Numba', 'Tableau', 'Trifacta',\n",
       "       'PyArrow', 'Rasterio', 'Orange3', 'PyMC3', 'Opennn', 'Oryx', 'Istio',\n",
       "       'Venes', 'Plotnine', 'Gluon', 'Plato', 'Sympy', 'Flair',\n",
       "       'stanford-nlp.1', 'pyqt', 'Nolearn', 'Lasagne', 'OCR',\n",
       "       'Apache-spark-mlib', 'azure-virtual-machine'],\n",
       "      dtype='object')"
      ]
     },
     "execution_count": 20,
     "metadata": {},
     "output_type": "execute_result"
    }
   ],
   "source": [
    "df.columns"
   ]
  },
  {
   "cell_type": "code",
   "execution_count": null,
   "id": "8747c1f8",
   "metadata": {},
   "outputs": [],
   "source": [
    "#Python, matlab, r, hadoop"
   ]
  },
  {
   "cell_type": "code",
   "execution_count": 58,
   "id": "0bdb2810",
   "metadata": {},
   "outputs": [],
   "source": [
    "df2 = df[['month','python','hadoop','r', 'matlab']]"
   ]
  },
  {
   "cell_type": "code",
   "execution_count": 59,
   "id": "cc9d1e6e",
   "metadata": {},
   "outputs": [
    {
     "data": {
      "text/plain": [
       "month     False\n",
       "python    False\n",
       "hadoop    False\n",
       "r         False\n",
       "matlab    False\n",
       "dtype: bool"
      ]
     },
     "execution_count": 59,
     "metadata": {},
     "output_type": "execute_result"
    }
   ],
   "source": [
    "df2.isna().any()"
   ]
  },
  {
   "cell_type": "code",
   "execution_count": 60,
   "id": "6aaef67c",
   "metadata": {},
   "outputs": [
    {
     "data": {
      "text/html": [
       "<div>\n",
       "<style scoped>\n",
       "    .dataframe tbody tr th:only-of-type {\n",
       "        vertical-align: middle;\n",
       "    }\n",
       "\n",
       "    .dataframe tbody tr th {\n",
       "        vertical-align: top;\n",
       "    }\n",
       "\n",
       "    .dataframe thead th {\n",
       "        text-align: right;\n",
       "    }\n",
       "</style>\n",
       "<table border=\"1\" class=\"dataframe\">\n",
       "  <thead>\n",
       "    <tr style=\"text-align: right;\">\n",
       "      <th></th>\n",
       "      <th>month</th>\n",
       "      <th>python</th>\n",
       "      <th>hadoop</th>\n",
       "      <th>r</th>\n",
       "      <th>matlab</th>\n",
       "    </tr>\n",
       "  </thead>\n",
       "  <tbody>\n",
       "    <tr>\n",
       "      <th>0</th>\n",
       "      <td>09-Jan</td>\n",
       "      <td>631</td>\n",
       "      <td>1</td>\n",
       "      <td>8</td>\n",
       "      <td>19</td>\n",
       "    </tr>\n",
       "    <tr>\n",
       "      <th>1</th>\n",
       "      <td>09-Feb</td>\n",
       "      <td>633</td>\n",
       "      <td>1</td>\n",
       "      <td>9</td>\n",
       "      <td>27</td>\n",
       "    </tr>\n",
       "  </tbody>\n",
       "</table>\n",
       "</div>"
      ],
      "text/plain": [
       "    month  python  hadoop  r  matlab\n",
       "0  09-Jan     631       1  8      19\n",
       "1  09-Feb     633       1  9      27"
      ]
     },
     "execution_count": 60,
     "metadata": {},
     "output_type": "execute_result"
    }
   ],
   "source": [
    "df2.head(2)"
   ]
  },
  {
   "cell_type": "code",
   "execution_count": 100,
   "id": "a5fe526e",
   "metadata": {},
   "outputs": [],
   "source": [
    "old_date = \"19-Jan\""
   ]
  },
  {
   "cell_type": "code",
   "execution_count": 101,
   "id": "ca8774ca",
   "metadata": {},
   "outputs": [],
   "source": [
    "old_date = old_date.split(\"-\")"
   ]
  },
  {
   "cell_type": "code",
   "execution_count": 102,
   "id": "a47068f5",
   "metadata": {},
   "outputs": [
    {
     "data": {
      "text/plain": [
       "['19', 'Jan']"
      ]
     },
     "execution_count": 102,
     "metadata": {},
     "output_type": "execute_result"
    }
   ],
   "source": [
    "old_date"
   ]
  },
  {
   "cell_type": "code",
   "execution_count": 103,
   "id": "2124520f",
   "metadata": {},
   "outputs": [
    {
     "data": {
      "text/plain": [
       "19"
      ]
     },
     "execution_count": 103,
     "metadata": {},
     "output_type": "execute_result"
    }
   ],
   "source": [
    "old_day = int(old_date[0])\n",
    "old_day"
   ]
  },
  {
   "cell_type": "code",
   "execution_count": 104,
   "id": "28de9de6",
   "metadata": {},
   "outputs": [],
   "source": [
    "month_dict = {\"Jan\": 1, \"Feb\": 2, \"Mar\": 3, \"Apr\": 4, \"May\": 5, \"Jun\": 6, \"Jul\": 7, \"Aug\": 8, \"Sep\": 9, \"Oct\": 10, \"Nov\": 11, \"Dec\": 12}\n",
    "\n",
    "new_date = []"
   ]
  },
  {
   "cell_type": "code",
   "execution_count": 105,
   "id": "abf261d0",
   "metadata": {},
   "outputs": [],
   "source": [
    "new_date.append(old_day)"
   ]
  },
  {
   "cell_type": "code",
   "execution_count": 106,
   "id": "303cf69b",
   "metadata": {},
   "outputs": [],
   "source": [
    "for month in month_dict:\n",
    "    if month == old_date[1]:\n",
    "        new_date.append(month_dict[month])"
   ]
  },
  {
   "cell_type": "code",
   "execution_count": 107,
   "id": "c01e9ce1",
   "metadata": {},
   "outputs": [
    {
     "data": {
      "text/plain": [
       "[19, 1]"
      ]
     },
     "execution_count": 107,
     "metadata": {},
     "output_type": "execute_result"
    }
   ],
   "source": [
    "new_date"
   ]
  },
  {
   "cell_type": "code",
   "execution_count": 110,
   "id": "2ea78677",
   "metadata": {},
   "outputs": [],
   "source": [
    "old_year_prefix = {\"1\": \"200\", \"2\": \"20\"}"
   ]
  },
  {
   "cell_type": "code",
   "execution_count": 109,
   "id": "6ea896ba",
   "metadata": {},
   "outputs": [
    {
     "data": {
      "text/plain": [
       "2"
      ]
     },
     "execution_count": 109,
     "metadata": {},
     "output_type": "execute_result"
    }
   ],
   "source": [
    "old_year = str(old_day)\n",
    "len(old_year)"
   ]
  },
  {
   "cell_type": "code",
   "execution_count": 133,
   "id": "5dd8f935",
   "metadata": {},
   "outputs": [
    {
     "data": {
      "text/plain": [
       "datetime.date(2009, 1, 1)"
      ]
     },
     "execution_count": 133,
     "metadata": {},
     "output_type": "execute_result"
    }
   ],
   "source": [
    "date(2009, 1,1)"
   ]
  },
  {
   "cell_type": "code",
   "execution_count": 148,
   "id": "55886daa",
   "metadata": {},
   "outputs": [],
   "source": [
    "def refine_date(mydate):\n",
    "    month_dict = {\"Jan\": 1, \"Feb\": 2, \"Mar\": 3, \"Apr\": 4, \"May\": 5, \"Jun\": 6, \"Jul\": 7, \"Aug\": 8, \"Sep\": 9, \"Oct\": 10, \"Nov\": 11, \"Dec\": 12}\n",
    "#     print(date)\n",
    "    new_date = []\n",
    "    \n",
    "    old_date = mydate\n",
    "    old_date = old_date.split(\"-\")\n",
    "    old_year_prefix = {1: \"200\", 2: \"20\"}\n",
    "    old_year = int(old_date[0])\n",
    "    old_year = str(old_year)\n",
    "    for i in old_year_prefix:\n",
    "        if len(old_year) == i:\n",
    "            old_year = old_year_prefix[i] + old_year\n",
    "    \n",
    "    new_date.append(int(old_year))\n",
    "    new_year = int(old_year)\n",
    "    new_month = 0\n",
    "    for month in month_dict:\n",
    "        if month == old_date[1]:\n",
    "            new_date.append(month_dict[month])\n",
    "            new_month = int(month_dict[month])\n",
    "            \n",
    "    \n",
    "    refined_date = date(new_year, new_month, 1)\n",
    "    \n",
    "    return refined_date"
   ]
  },
  {
   "cell_type": "code",
   "execution_count": 149,
   "id": "98bbc0d2",
   "metadata": {},
   "outputs": [
    {
     "data": {
      "text/plain": [
       "datetime.date(2009, 1, 1)"
      ]
     },
     "execution_count": 149,
     "metadata": {},
     "output_type": "execute_result"
    }
   ],
   "source": [
    "refine_date(\"09-Jan\")"
   ]
  },
  {
   "cell_type": "code",
   "execution_count": 150,
   "id": "d48573ec",
   "metadata": {},
   "outputs": [
    {
     "data": {
      "text/html": [
       "<div>\n",
       "<style scoped>\n",
       "    .dataframe tbody tr th:only-of-type {\n",
       "        vertical-align: middle;\n",
       "    }\n",
       "\n",
       "    .dataframe tbody tr th {\n",
       "        vertical-align: top;\n",
       "    }\n",
       "\n",
       "    .dataframe thead th {\n",
       "        text-align: right;\n",
       "    }\n",
       "</style>\n",
       "<table border=\"1\" class=\"dataframe\">\n",
       "  <thead>\n",
       "    <tr style=\"text-align: right;\">\n",
       "      <th></th>\n",
       "      <th>month</th>\n",
       "      <th>python</th>\n",
       "      <th>hadoop</th>\n",
       "      <th>r</th>\n",
       "      <th>matlab</th>\n",
       "    </tr>\n",
       "  </thead>\n",
       "  <tbody>\n",
       "    <tr>\n",
       "      <th>0</th>\n",
       "      <td>09-Jan</td>\n",
       "      <td>631</td>\n",
       "      <td>1</td>\n",
       "      <td>8</td>\n",
       "      <td>19</td>\n",
       "    </tr>\n",
       "    <tr>\n",
       "      <th>1</th>\n",
       "      <td>09-Feb</td>\n",
       "      <td>633</td>\n",
       "      <td>1</td>\n",
       "      <td>9</td>\n",
       "      <td>27</td>\n",
       "    </tr>\n",
       "  </tbody>\n",
       "</table>\n",
       "</div>"
      ],
      "text/plain": [
       "    month  python  hadoop  r  matlab\n",
       "0  09-Jan     631       1  8      19\n",
       "1  09-Feb     633       1  9      27"
      ]
     },
     "execution_count": 150,
     "metadata": {},
     "output_type": "execute_result"
    }
   ],
   "source": [
    "df2.head(2)"
   ]
  },
  {
   "cell_type": "code",
   "execution_count": 153,
   "id": "0da31a79",
   "metadata": {},
   "outputs": [
    {
     "data": {
      "text/plain": [
       "0      09-Jan\n",
       "1      09-Feb\n",
       "2      09-Mar\n",
       "3      09-Apr\n",
       "4      09-May\n",
       "        ...  \n",
       "127    19-Aug\n",
       "128    19-Sep\n",
       "129    19-Oct\n",
       "130    19-Nov\n",
       "131    19-Dec\n",
       "Name: month, Length: 132, dtype: object"
      ]
     },
     "execution_count": 153,
     "metadata": {},
     "output_type": "execute_result"
    }
   ],
   "source": [
    "df2['month']"
   ]
  },
  {
   "cell_type": "code",
   "execution_count": 154,
   "id": "74f3396c",
   "metadata": {},
   "outputs": [
    {
     "name": "stderr",
     "output_type": "stream",
     "text": [
      "<ipython-input-154-54063fb4491e>:1: SettingWithCopyWarning: \n",
      "A value is trying to be set on a copy of a slice from a DataFrame.\n",
      "Try using .loc[row_indexer,col_indexer] = value instead\n",
      "\n",
      "See the caveats in the documentation: https://pandas.pydata.org/pandas-docs/stable/user_guide/indexing.html#returning-a-view-versus-a-copy\n",
      "  df2['month'] = df2['month'].apply(refine_date)\n"
     ]
    }
   ],
   "source": [
    "df2['month'] = df2['month'].apply(refine_date)"
   ]
  },
  {
   "cell_type": "code",
   "execution_count": 155,
   "id": "1b2d0fe0",
   "metadata": {},
   "outputs": [
    {
     "data": {
      "text/html": [
       "<div>\n",
       "<style scoped>\n",
       "    .dataframe tbody tr th:only-of-type {\n",
       "        vertical-align: middle;\n",
       "    }\n",
       "\n",
       "    .dataframe tbody tr th {\n",
       "        vertical-align: top;\n",
       "    }\n",
       "\n",
       "    .dataframe thead th {\n",
       "        text-align: right;\n",
       "    }\n",
       "</style>\n",
       "<table border=\"1\" class=\"dataframe\">\n",
       "  <thead>\n",
       "    <tr style=\"text-align: right;\">\n",
       "      <th></th>\n",
       "      <th>month</th>\n",
       "      <th>python</th>\n",
       "      <th>hadoop</th>\n",
       "      <th>r</th>\n",
       "      <th>matlab</th>\n",
       "    </tr>\n",
       "  </thead>\n",
       "  <tbody>\n",
       "    <tr>\n",
       "      <th>0</th>\n",
       "      <td>2009-01-01</td>\n",
       "      <td>631</td>\n",
       "      <td>1</td>\n",
       "      <td>8</td>\n",
       "      <td>19</td>\n",
       "    </tr>\n",
       "    <tr>\n",
       "      <th>1</th>\n",
       "      <td>2009-02-01</td>\n",
       "      <td>633</td>\n",
       "      <td>1</td>\n",
       "      <td>9</td>\n",
       "      <td>27</td>\n",
       "    </tr>\n",
       "    <tr>\n",
       "      <th>2</th>\n",
       "      <td>2009-03-01</td>\n",
       "      <td>766</td>\n",
       "      <td>1</td>\n",
       "      <td>4</td>\n",
       "      <td>24</td>\n",
       "    </tr>\n",
       "  </tbody>\n",
       "</table>\n",
       "</div>"
      ],
      "text/plain": [
       "        month  python  hadoop  r  matlab\n",
       "0  2009-01-01     631       1  8      19\n",
       "1  2009-02-01     633       1  9      27\n",
       "2  2009-03-01     766       1  4      24"
      ]
     },
     "execution_count": 155,
     "metadata": {},
     "output_type": "execute_result"
    }
   ],
   "source": [
    "df2.head(3)"
   ]
  },
  {
   "cell_type": "code",
   "execution_count": 156,
   "id": "9d80ca97",
   "metadata": {},
   "outputs": [],
   "source": [
    "df2.to_csv(\"timeseries_dataset.csv\")"
   ]
  },
  {
   "cell_type": "code",
   "execution_count": null,
   "id": "f6b0bb86",
   "metadata": {},
   "outputs": [],
   "source": []
  }
 ],
 "metadata": {
  "kernelspec": {
   "display_name": "Python 3",
   "language": "python",
   "name": "python3"
  },
  "language_info": {
   "codemirror_mode": {
    "name": "ipython",
    "version": 3
   },
   "file_extension": ".py",
   "mimetype": "text/x-python",
   "name": "python",
   "nbconvert_exporter": "python",
   "pygments_lexer": "ipython3",
   "version": "3.8.8"
  }
 },
 "nbformat": 4,
 "nbformat_minor": 5
}
